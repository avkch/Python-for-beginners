{
 "cells": [
  {
   "attachments": {},
   "cell_type": "markdown",
   "metadata": {},
   "source": [
    "# Python programming for beginners\n",
    "anton.kichev@clarivate.com"
   ]
  },
  {
   "attachments": {},
   "cell_type": "markdown",
   "metadata": {},
   "source": [
    "## Agenda\n",
    "1. Background, why Python, installation, IDE, setup\n",
    "2. Variables, Boolean, None, numbers (integers, floating point), check type\n",
    "3. List, Set, Dictionary, Tuple\n",
    "4. Text and regular expressions\n",
    "5. Functions and objects\n",
    "6. Conditions, loops, iterators, special functions (range, enumerate, zip)\n",
    "7. I/O working with files, working directory, projects\n",
    "8. Packages, pip, selected packages (xmltodict, biopython, xlwings, pyautogui, sqlalchemy, cx_Oracle, pandas)\n",
    "9. Pandas\n",
    "10. Errors and debugging (try, except)\n"
   ]
  },
  {
   "attachments": {},
   "cell_type": "markdown",
   "metadata": {},
   "source": [
    "## What is a Programming language?\n",
    "![images/image1.png](images/image1.png)"
   ]
  },
  {
   "attachments": {},
   "cell_type": "markdown",
   "metadata": {},
   "source": [
    "## Why Python\n",
    "\n",
    "### Advantages:\n",
    "* Opensource/ free\n",
    "* Easy to learn\n",
    "* Old\n",
    "* Popular\n",
    "* All purpose\n",
    "* Simple syntaxis\n",
    "* High level\n",
    "* Scripting\n",
    "* Dynamically typed\n",
    "\n",
    "### Disadvantages:\n",
    "* Old\n",
    "* Dynamically typed\n",
    "* Inconsistent development"
   ]
  },
  {
   "attachments": {},
   "cell_type": "markdown",
   "metadata": {},
   "source": [
    "## Installation\n",
    "\n",
    "[Python](http://python.org/)\n",
    "\n",
    "[Anaconda](https://www.anaconda.com/products/individual)"
   ]
  },
  {
   "attachments": {},
   "cell_type": "markdown",
   "metadata": {},
   "source": [
    "## Integrated Development Environment (IDE)\n",
    "* IDLE – comes with Python\n",
    "* [Jupiter notebook](https://jupyter.org/install)\n",
    "* [google colab](https://colab.research.google.com/notebooks/basic_features_overview.ipynb#scrollTo=KR921S_OQSHG)\n",
    "* Spyder – comes with Anaconda\n",
    "* [Visual Studio Code](https://code.visualstudio.com/)\n",
    "* [PyCharm community](https://www.jetbrains.com/toolbox-app/)"
   ]
  },
  {
   "cell_type": "markdown",
   "metadata": {},
   "source": [
    "## Python files\n",
    "Python files are text files with .py extension\n",
    "### Comments\n",
    "Comments are pieces of code that are not going to be executed. In python everything after hashtag (#) on the same line is comment.\n",
    "Comments are used to describe code: what is this particular piece of code doing and why you have created it."
   ]
  },
  {
   "cell_type": "code",
   "execution_count": 1,
   "metadata": {},
   "outputs": [],
   "source": [
    "# this is a comment it will be ignored when running the python file"
   ]
  },
  {
   "cell_type": "markdown",
   "metadata": {},
   "source": [
    "## Variables\n",
    "Assigning value to a variable\n"
   ]
  },
  {
   "cell_type": "code",
   "execution_count": 2,
   "metadata": {},
   "outputs": [
    {
     "name": "stdout",
     "output_type": "stream",
     "text": [
      "1\n"
     ]
    }
   ],
   "source": [
    "my_variable = 1\n",
    "print(my_variable)"
   ]
  },
  {
   "attachments": {},
   "cell_type": "markdown",
   "metadata": {},
   "source": [
    "### Naming variables\n",
    "Variable names cannot start with the number, cannot contain special characters or space except _\n",
    "* variable1 -> <font color=green>this is OK</font>\n",
    "* 1variable -> <font color=red>this is not OK</font>\n",
    "* Important-variable! -> <font color=red>this is not OK</font>\n",
    "* myVariable -> <font color=green>this is OK</font>\n",
    "* my_variable -> <font color=green>this is OK</font>"
   ]
  },
  {
   "attachments": {},
   "cell_type": "markdown",
   "metadata": {},
   "source": [
    "### Numbers\n",
    "#### 1. integers (whole numbers)"
   ]
  },
  {
   "cell_type": "code",
   "execution_count": 3,
   "metadata": {},
   "outputs": [
    {
     "data": {
      "text/plain": [
       "3"
      ]
     },
     "execution_count": 3,
     "metadata": {},
     "output_type": "execute_result"
    }
   ],
   "source": [
    "var2 = 2\n",
    "my_variable + var2"
   ]
  },
  {
   "attachments": {},
   "cell_type": "markdown",
   "metadata": {},
   "source": [
    "we can assign the result to another variable"
   ]
  },
  {
   "cell_type": "code",
   "execution_count": 4,
   "metadata": {},
   "outputs": [
    {
     "name": "stdout",
     "output_type": "stream",
     "text": [
      "3\n"
     ]
    }
   ],
   "source": [
    "result = my_variable + var2\n",
    "print(result)"
   ]
  },
  {
   "attachments": {},
   "cell_type": "markdown",
   "metadata": {},
   "source": [
    "#### 2. Doubles (floating point number)"
   ]
  },
  {
   "cell_type": "code",
   "execution_count": 5,
   "metadata": {},
   "outputs": [
    {
     "name": "stdout",
     "output_type": "stream",
     "text": [
      "2.05\n"
     ]
    }
   ],
   "source": [
    "double = 2.05\n",
    "print(double)"
   ]
  },
  {
   "attachments": {},
   "cell_type": "markdown",
   "metadata": {},
   "source": [
    " #### Mathematical operations\n",
    "<font color= #00B19C>- Additon and substraction</font>"
   ]
  },
  {
   "cell_type": "code",
   "execution_count": 6,
   "metadata": {},
   "outputs": [
    {
     "data": {
      "text/plain": [
       "5"
      ]
     },
     "execution_count": 6,
     "metadata": {},
     "output_type": "execute_result"
    }
   ],
   "source": [
    "2 + 3"
   ]
  },
  {
   "cell_type": "code",
   "execution_count": 7,
   "metadata": {},
   "outputs": [
    {
     "data": {
      "text/plain": [
       "3"
      ]
     },
     "execution_count": 7,
     "metadata": {},
     "output_type": "execute_result"
    }
   ],
   "source": [
    "5 - 2"
   ]
  },
  {
   "cell_type": "markdown",
   "metadata": {},
   "source": [
    "<font color= #00B19C>- Multiplication and division</font>"
   ]
  },
  {
   "cell_type": "code",
   "execution_count": 8,
   "metadata": {},
   "outputs": [
    {
     "data": {
      "text/plain": [
       "6"
      ]
     },
     "execution_count": 8,
     "metadata": {},
     "output_type": "execute_result"
    }
   ],
   "source": [
    "2 * 3"
   ]
  },
  {
   "cell_type": "code",
   "execution_count": 9,
   "metadata": {},
   "outputs": [
    {
     "data": {
      "text/plain": [
       "3.0"
      ]
     },
     "execution_count": 9,
     "metadata": {},
     "output_type": "execute_result"
    }
   ],
   "source": [
    "6 / 2"
   ]
  },
  {
   "cell_type": "markdown",
   "metadata": {},
   "source": [
    "<font color=red>Note: the result of division is float not int!</font>"
   ]
  },
  {
   "attachments": {},
   "cell_type": "markdown",
   "metadata": {},
   "source": [
    "<font color= #00B19C>- Exponential</font>"
   ]
  },
  {
   "cell_type": "code",
   "execution_count": 10,
   "metadata": {},
   "outputs": [
    {
     "data": {
      "text/plain": [
       "16"
      ]
     },
     "execution_count": 10,
     "metadata": {},
     "output_type": "execute_result"
    }
   ],
   "source": [
    "2 ** 4\n",
    "# 2**4 is equal to 2*2*2*2"
   ]
  },
  {
   "attachments": {},
   "cell_type": "markdown",
   "metadata": {},
   "source": [
    "<font color= #00B19C>- Floor division</font>"
   ]
  },
  {
   "cell_type": "code",
   "execution_count": 11,
   "metadata": {},
   "outputs": [
    {
     "data": {
      "text/plain": [
       "2"
      ]
     },
     "execution_count": 11,
     "metadata": {},
     "output_type": "execute_result"
    }
   ],
   "source": [
    "7 // 3"
   ]
  },
  {
   "cell_type": "markdown",
   "metadata": {},
   "source": [
    "7/3 is 2.3333 the floor division is giving the whole number 2 (how many times you can fit 3 in 7)"
   ]
  },
  {
   "cell_type": "markdown",
   "metadata": {},
   "source": [
    "<font color= #00B19C>- Modulo</font>"
   ]
  },
  {
   "cell_type": "code",
   "execution_count": 12,
   "metadata": {},
   "outputs": [
    {
     "data": {
      "text/plain": [
       "1"
      ]
     },
     "execution_count": 12,
     "metadata": {},
     "output_type": "execute_result"
    }
   ],
   "source": [
    "7 % 3"
   ]
  },
  {
   "attachments": {},
   "cell_type": "markdown",
   "metadata": {},
   "source": [
    "7//3 is 2, modulo is giving the remainder of the operation (what is left when you fit 2 times 3 in 7 ; 7 =2*3 + 1)\n",
    "<font color= red>Note: Floor division and modulo results are inegers if integers are used as arguments and float if one of the arguments is float</font>"
   ]
  },
  {
   "attachments": {},
   "cell_type": "markdown",
   "metadata": {},
   "source": [
    "### Special variables\n",
    "#### 1. None\n",
    "None means variable without data type, nothing"
   ]
  },
  {
   "cell_type": "code",
   "execution_count": 13,
   "metadata": {},
   "outputs": [
    {
     "name": "stdout",
     "output_type": "stream",
     "text": [
      "None\n"
     ]
    }
   ],
   "source": [
    "var = None\n",
    "print(var)"
   ]
  },
  {
   "attachments": {},
   "cell_type": "markdown",
   "metadata": {},
   "source": [
    "#### 2. Bolean\n",
    "<font color= red>Note: Bolean is type of integer that can take only values of 0 or 1</font>"
   ]
  },
  {
   "cell_type": "code",
   "execution_count": 14,
   "metadata": {},
   "outputs": [
    {
     "name": "stdout",
     "output_type": "stream",
     "text": [
      "True\n",
      "2\n"
     ]
    }
   ],
   "source": [
    "var = True # or 1\n",
    "var2 = False # or 0\n",
    "print(var)\n",
    "print(var+1)"
   ]
  },
  {
   "attachments": {},
   "cell_type": "markdown",
   "metadata": {},
   "source": [
    "### Check variable type\n",
    "#### 1. type() function"
   ]
  },
  {
   "cell_type": "code",
   "execution_count": 15,
   "metadata": {},
   "outputs": [
    {
     "name": "stdout",
     "output_type": "stream",
     "text": [
      "<class 'bool'>\n",
      "<class 'int'>\n"
     ]
    }
   ],
   "source": [
    "print(type(True))\n",
    "print(type(1))"
   ]
  },
  {
   "attachments": {},
   "cell_type": "markdown",
   "metadata": {},
   "source": [
    "#### 2. isinstance() function"
   ]
  },
  {
   "cell_type": "code",
   "execution_count": 16,
   "metadata": {},
   "outputs": [
    {
     "name": "stdout",
     "output_type": "stream",
     "text": [
      "True\n",
      "True\n",
      "False\n"
     ]
    }
   ],
   "source": [
    "print(isinstance(True, bool))\n",
    "print(isinstance(True, int))\n",
    "print(isinstance(1, bool))"
   ]
  },
  {
   "cell_type": "markdown",
   "metadata": {},
   "source": [
    "## Comparing variables"
   ]
  },
  {
   "cell_type": "code",
   "execution_count": 82,
   "metadata": {},
   "outputs": [
    {
     "name": "stdout",
     "output_type": "stream",
     "text": [
      "True\n",
      "False\n",
      "True\n",
      "True\n",
      "False\n"
     ]
    }
   ],
   "source": [
    "print(1 == 1)\n",
    "print(1 == 2)\n",
    "print(1 != 2)\n",
    "print(1 < 2)\n",
    "print(1 > 2)"
   ]
  },
  {
   "cell_type": "code",
   "execution_count": 88,
   "metadata": {},
   "outputs": [
    {
     "name": "stdout",
     "output_type": "stream",
     "text": [
      "True\n",
      "True\n",
      "True\n",
      "False\n",
      "True\n"
     ]
    }
   ],
   "source": [
    "my_variable = None\n",
    "print(my_variable == None)\n",
    "print(my_variable is None)\n",
    "my_variable = 1.5\n",
    "print(my_variable == 1.5)\n",
    "print(my_variable is 1.5)\n",
    "print(my_variable is not None)"
   ]
  },
  {
   "cell_type": "markdown",
   "metadata": {},
   "source": [
    "<font color= red>Note as a general rule of thumb use \"is\" \"is not\" when checking if variable is **None**, **True** or **False** in all other cases use \"==\"</format>"
   ]
  },
  {
   "attachments": {},
   "cell_type": "markdown",
   "metadata": {},
   "source": [
    "### Converting Int to Float and vs versa\n",
    "#### 1. float() function"
   ]
  },
  {
   "cell_type": "code",
   "execution_count": 17,
   "metadata": {},
   "outputs": [
    {
     "data": {
      "text/plain": [
       "3.0"
      ]
     },
     "execution_count": 17,
     "metadata": {},
     "output_type": "execute_result"
    }
   ],
   "source": [
    "float(3)"
   ]
  },
  {
   "attachments": {},
   "cell_type": "markdown",
   "metadata": {},
   "source": [
    "#### 2. int() function\n",
    "<font color= red>Note the int() conversion is taking in to account only the whole number int(2.9) = 2!</font>"
   ]
  },
  {
   "cell_type": "code",
   "execution_count": 18,
   "metadata": {},
   "outputs": [
    {
     "data": {
      "text/plain": [
       "2"
      ]
     },
     "execution_count": 18,
     "metadata": {},
     "output_type": "execute_result"
    }
   ],
   "source": [
    "int(2.9)"
   ]
  },
  {
   "attachments": {},
   "cell_type": "markdown",
   "metadata": {},
   "source": [
    "## Tuple\n",
    "tuple is a collection which is ordered and unchangeable."
   ]
  },
  {
   "cell_type": "code",
   "execution_count": 19,
   "metadata": {},
   "outputs": [],
   "source": [
    "my_tuple = (3, 8, 5, 7, 5) "
   ]
  },
  {
   "cell_type": "markdown",
   "metadata": {},
   "source": [
    "access tuple items by index \n",
    "<font color= red>Note Python is 0 indensing language = it starts to count from 0!</font>"
   ]
  },
  {
   "attachments": {},
   "cell_type": "markdown",
   "metadata": {},
   "source": [
    "![images/image3.png](images/image3.png)"
   ]
  },
  {
   "cell_type": "code",
   "execution_count": 20,
   "metadata": {},
   "outputs": [
    {
     "name": "stdout",
     "output_type": "stream",
     "text": [
      "8\n",
      "(5, 7)\n",
      "(5, 7, 5)\n",
      "(3, 8)\n",
      "5\n",
      "(3, 5, 5)\n",
      "(8, 7)\n",
      "(5, 7, 5, 8, 3)\n",
      "(7, 5)\n"
     ]
    }
   ],
   "source": [
    "print(my_tuple[1])\n",
    "print(my_tuple[2:4])\n",
    "print(my_tuple[2:])\n",
    "print(my_tuple[:2])\n",
    "print(my_tuple[-1])\n",
    "print(my_tuple[::2])\n",
    "print(my_tuple[1::2])\n",
    "print(my_tuple[::-1])\n",
    "print(my_tuple[-2::])"
   ]
  },
  {
   "attachments": {},
   "cell_type": "markdown",
   "metadata": {},
   "source": [
    "### Tuple methods\n",
    "Methods are functions inside an object (every variable in Python is an object)\n",
    "#### 1.count() method - Counts number of occurrences of item in a tuple"
   ]
  },
  {
   "cell_type": "code",
   "execution_count": 21,
   "metadata": {},
   "outputs": [
    {
     "data": {
      "text/plain": [
       "2"
      ]
     },
     "execution_count": 21,
     "metadata": {},
     "output_type": "execute_result"
    }
   ],
   "source": [
    "my_tuple.count(5)"
   ]
  },
  {
   "cell_type": "markdown",
   "metadata": {},
   "source": [
    "#### 2.index() method - Returns the index of first occurence of an item in a tuple"
   ]
  },
  {
   "cell_type": "code",
   "execution_count": 22,
   "metadata": {},
   "outputs": [
    {
     "data": {
      "text/plain": [
       "3"
      ]
     },
     "execution_count": 22,
     "metadata": {},
     "output_type": "execute_result"
    }
   ],
   "source": [
    "my_tuple.index(7)"
   ]
  },
  {
   "attachments": {},
   "cell_type": "markdown",
   "metadata": {},
   "source": [
    "#### Other operations with tuples\n",
    "Adding tuples"
   ]
  },
  {
   "cell_type": "code",
   "execution_count": 23,
   "metadata": {},
   "outputs": [
    {
     "data": {
      "text/plain": [
       "(3, 8, 5, 7, 5, 7, 2, 1)"
      ]
     },
     "execution_count": 23,
     "metadata": {},
     "output_type": "execute_result"
    }
   ],
   "source": [
    "my_tuple + (7, 2, 1)"
   ]
  },
  {
   "cell_type": "markdown",
   "metadata": {},
   "source": [
    "Nested tuples = tuples containing tuples"
   ]
  },
  {
   "cell_type": "code",
   "execution_count": 24,
   "metadata": {},
   "outputs": [],
   "source": [
    "tuple_of_tuples = ((1,2,3),(3,4,5))"
   ]
  },
  {
   "cell_type": "code",
   "execution_count": 25,
   "metadata": {},
   "outputs": [
    {
     "name": "stdout",
     "output_type": "stream",
     "text": [
      "((1, 2, 3), (3, 4, 5))\n",
      "(1, 2, 3)\n",
      "5\n"
     ]
    }
   ],
   "source": [
    "print(tuple_of_tuples)\n",
    "print(tuple_of_tuples[0])\n",
    "print(tuple_of_tuples[1][2])"
   ]
  },
  {
   "cell_type": "markdown",
   "metadata": {},
   "source": [
    "## List\n",
    "List is a collection which is ordered and changeable."
   ]
  },
  {
   "cell_type": "code",
   "execution_count": 26,
   "metadata": {},
   "outputs": [],
   "source": [
    "my_list = [3, 8, 5, 7, 5]"
   ]
  },
  {
   "cell_type": "markdown",
   "metadata": {},
   "source": [
    "Accesing list members is exactly the same as accesing tuple members, .count() and .index() methods work the same way with lists.\n",
    "\n",
    "The difference is that list members can be changed"
   ]
  },
  {
   "cell_type": "code",
   "execution_count": 27,
   "metadata": {},
   "outputs": [
    {
     "name": "stdout",
     "output_type": "stream",
     "text": [
      "[3, 9, 5, 7, 5]\n"
     ]
    }
   ],
   "source": [
    "my_list[1] = 9\n",
    "print(my_list)"
   ]
  },
  {
   "cell_type": "code",
   "execution_count": 28,
   "metadata": {},
   "outputs": [
    {
     "ename": "TypeError",
     "evalue": "'tuple' object does not support item assignment",
     "output_type": "error",
     "traceback": [
      "\u001b[1;31m---------------------------------------------------------------------------\u001b[0m",
      "\u001b[1;31mTypeError\u001b[0m                                 Traceback (most recent call last)",
      "\u001b[1;32m<ipython-input-28-b347259ed452>\u001b[0m in \u001b[0;36m<module>\u001b[1;34m\u001b[0m\n\u001b[1;32m----> 1\u001b[1;33m \u001b[0mmy_tuple\u001b[0m\u001b[1;33m[\u001b[0m\u001b[1;36m1\u001b[0m\u001b[1;33m]\u001b[0m \u001b[1;33m=\u001b[0m \u001b[1;36m9\u001b[0m\u001b[1;33m\u001b[0m\u001b[0m\n\u001b[0m",
      "\u001b[1;31mTypeError\u001b[0m: 'tuple' object does not support item assignment"
     ]
    }
   ],
   "source": [
    "my_tuple[1] = 9"
   ]
  },
  {
   "cell_type": "markdown",
   "metadata": {},
   "source": [
    "Lists are having more methods than tuples"
   ]
  },
  {
   "cell_type": "markdown",
   "metadata": {},
   "source": [
    "#### 1.count() method \n",
    "same as with tuple\n",
    "#### 2.index() method\n",
    "same as with tuple\n",
    "#### 3.reverse() method\n",
    "inverting the list same as my_list[::-1]"
   ]
  },
  {
   "cell_type": "code",
   "execution_count": 29,
   "metadata": {},
   "outputs": [
    {
     "name": "stdout",
     "output_type": "stream",
     "text": [
      "[5, 7, 5, 9, 3]\n",
      "[3, 9, 5, 7, 5]\n"
     ]
    }
   ],
   "source": [
    "my_list.reverse()\n",
    "print(my_list)\n",
    "my_list = my_list[::-1]\n",
    "print(my_list)"
   ]
  },
  {
   "cell_type": "markdown",
   "metadata": {},
   "source": [
    "#### 4.sort() method\n",
    "sorting the list from smallest to largest or alphabetically in case of text"
   ]
  },
  {
   "cell_type": "code",
   "execution_count": 30,
   "metadata": {},
   "outputs": [
    {
     "name": "stdout",
     "output_type": "stream",
     "text": [
      "[3, 5, 5, 7, 9]\n",
      "[9, 7, 5, 5, 3]\n"
     ]
    }
   ],
   "source": [
    "my_list.sort()\n",
    "print(my_list)\n",
    "my_list.sort(reverse=True)\n",
    "print(my_list)"
   ]
  },
  {
   "cell_type": "markdown",
   "metadata": {},
   "source": [
    "#### 5.clear() method\n",
    "removing everything from a list, equal to my_list = []"
   ]
  },
  {
   "cell_type": "code",
   "execution_count": 31,
   "metadata": {},
   "outputs": [
    {
     "name": "stdout",
     "output_type": "stream",
     "text": [
      "[]\n"
     ]
    }
   ],
   "source": [
    "my_list.clear()\n",
    "print(my_list)"
   ]
  },
  {
   "cell_type": "markdown",
   "metadata": {},
   "source": [
    "#### 6.remove() method\n",
    "Removes the first item with the specified value"
   ]
  },
  {
   "cell_type": "code",
   "execution_count": 32,
   "metadata": {},
   "outputs": [
    {
     "name": "stdout",
     "output_type": "stream",
     "text": [
      "[3, 8, 5, 5]\n"
     ]
    }
   ],
   "source": [
    "my_list = [3, 8, 5, 7, 5]\n",
    "my_list.remove(7)\n",
    "print(my_list)"
   ]
  },
  {
   "cell_type": "markdown",
   "metadata": {},
   "source": [
    "#### 7.pop() method\n",
    "Removes the element at the specified position"
   ]
  },
  {
   "cell_type": "code",
   "execution_count": 33,
   "metadata": {},
   "outputs": [
    {
     "name": "stdout",
     "output_type": "stream",
     "text": [
      "[8, 5, 5]\n"
     ]
    }
   ],
   "source": [
    "my_list.pop(0)\n",
    "print(my_list)"
   ]
  },
  {
   "cell_type": "markdown",
   "metadata": {},
   "source": [
    "#### 8.copy() method\n",
    "Returns a copy of the list"
   ]
  },
  {
   "cell_type": "code",
   "execution_count": 37,
   "metadata": {},
   "outputs": [
    {
     "name": "stdout",
     "output_type": "stream",
     "text": [
      "[8, 5, 5]\n"
     ]
    }
   ],
   "source": [
    "my_list_copy = my_list.copy()\n",
    "print(my_list_copy)"
   ]
  },
  {
   "cell_type": "markdown",
   "metadata": {},
   "source": [
    "what is the problem with my_other_list = my_list?"
   ]
  },
  {
   "cell_type": "code",
   "execution_count": 38,
   "metadata": {},
   "outputs": [
    {
     "name": "stdout",
     "output_type": "stream",
     "text": [
      "[8, 5, 5]\n"
     ]
    }
   ],
   "source": [
    "my_other_list = my_list\n",
    "print(my_other_list)"
   ]
  },
  {
   "cell_type": "code",
   "execution_count": 39,
   "metadata": {},
   "outputs": [
    {
     "name": "stdout",
     "output_type": "stream",
     "text": [
      "[5, 5]\n",
      "[8, 5, 5]\n",
      "[5, 5]\n"
     ]
    }
   ],
   "source": [
    "my_list.pop(0)\n",
    "print(my_list)\n",
    "print(my_list_copy)\n",
    "print(my_other_list)"
   ]
  },
  {
   "cell_type": "code",
   "execution_count": 40,
   "metadata": {},
   "outputs": [
    {
     "name": "stdout",
     "output_type": "stream",
     "text": [
      "[5]\n",
      "[8, 5, 5]\n",
      "[5]\n"
     ]
    }
   ],
   "source": [
    "my_other_list.pop(0)\n",
    "print(my_list)\n",
    "print(my_list_copy)\n",
    "print(my_other_list)"
   ]
  },
  {
   "cell_type": "markdown",
   "metadata": {},
   "source": [
    "#### 9.insert() method\n",
    "Adds an element at the specified position, displacing the following members with 1 position"
   ]
  },
  {
   "cell_type": "code",
   "execution_count": 49,
   "metadata": {},
   "outputs": [
    {
     "name": "stdout",
     "output_type": "stream",
     "text": [
      "[3, 8, 5, 1, 7, 5]\n"
     ]
    }
   ],
   "source": [
    "my_list = [3, 8, 5, 7, 5]\n",
    "my_list.insert(3, 1)\n",
    "print(my_list)"
   ]
  },
  {
   "cell_type": "markdown",
   "metadata": {},
   "source": [
    "#### 10.append() method\n",
    "Adds an element at the end of the list"
   ]
  },
  {
   "cell_type": "code",
   "execution_count": 50,
   "metadata": {},
   "outputs": [
    {
     "name": "stdout",
     "output_type": "stream",
     "text": [
      "[3, 8, 5, 1, 7, 5, 6]\n"
     ]
    }
   ],
   "source": [
    "my_list.append(6)\n",
    "print(my_list)"
   ]
  },
  {
   "cell_type": "markdown",
   "metadata": {},
   "source": [
    "#### 11.extend() method\n",
    "dd the elements of a list (or any iterable), to the end of the current list"
   ]
  },
  {
   "cell_type": "code",
   "execution_count": 51,
   "metadata": {},
   "outputs": [
    {
     "name": "stdout",
     "output_type": "stream",
     "text": [
      "[3, 8, 5, 1, 7, 5, 6, 2, 6, 8]\n"
     ]
    }
   ],
   "source": [
    "another_list = [2, 6, 8]\n",
    "my_list.extend(another_list)\n",
    "print(my_list)"
   ]
  },
  {
   "cell_type": "code",
   "execution_count": 52,
   "metadata": {},
   "outputs": [
    {
     "name": "stdout",
     "output_type": "stream",
     "text": [
      "[3, 8, 5, 1, 7, 5, 6, 2, 6, 8, 2, 6, 8]\n"
     ]
    }
   ],
   "source": [
    "another_tuple = (2, 6, 8)\n",
    "my_list.extend(another_tuple)\n",
    "print(my_list)"
   ]
  },
  {
   "cell_type": "markdown",
   "metadata": {},
   "source": [
    "#### Set\n",
    "Set is an unordered collection of unique objects."
   ]
  },
  {
   "cell_type": "code",
   "execution_count": 54,
   "metadata": {},
   "outputs": [
    {
     "name": "stdout",
     "output_type": "stream",
     "text": [
      "{8, 3, 5, 7}\n"
     ]
    }
   ],
   "source": [
    "my_set = {3, 8, 5, 7, 5}\n",
    "print(my_set)"
   ]
  },
  {
   "cell_type": "code",
   "execution_count": 55,
   "metadata": {},
   "outputs": [
    {
     "name": "stdout",
     "output_type": "stream",
     "text": [
      "{8, 3, 5, 7}\n"
     ]
    }
   ],
   "source": [
    "print(my_set)"
   ]
  },
  {
   "cell_type": "markdown",
   "metadata": {},
   "source": [
    "### Set methods\n",
    ".add()\t- Adds an element to the set\n",
    "\n",
    ".clear()\t- Removes all the elements from the set\n",
    "\n",
    ".copy()\t- Returns a copy of the set\n",
    "\n",
    ".difference()\t- Returns a set containing the difference between two or more sets\n",
    "\n",
    ".difference_update()\t- Removes the items in this set that are also included in another, specified set\n",
    "\n",
    ".discard()\t- Remove the specified item\n",
    "\n",
    ".intersection()\t- Returns a set, that is the intersection of two other sets\n",
    "\n",
    ".intersection_update()\t- Removes the items in this set that are not present in other, specified set(s)\n",
    "\n",
    ".isdisjoint()\t- Returns whether two sets have a intersection or not\n",
    "\n",
    ".issubset()\t- Returns whether another set contains this set or not\n",
    "\n",
    ".issuperset()\t- Returns whether this set contains another set or not\n",
    "\n",
    ".pop()\t- Removes an element from the set\n",
    "\n",
    ".remove()\t- Removes the specified element\n",
    "\n",
    ".symmetric_difference()\t- Returns a set with the symmetric differences of two sets\n",
    "\n",
    ".symmetric_difference_update()\t- Inserts the symmetric differences from this set and another\n",
    "\n",
    ".union()\t- Return a set containing the union of sets\n",
    "\n",
    ".update()\t- Update the set with the union of this set and others"
   ]
  },
  {
   "cell_type": "code",
   "execution_count": 56,
   "metadata": {},
   "outputs": [
    {
     "name": "stdout",
     "output_type": "stream",
     "text": [
      "{1, 2, 3, 4, 5, 6, 7, 8}\n",
      "{4, 5}\n"
     ]
    }
   ],
   "source": [
    "set_a = {1,2,3,4,5}\n",
    "set_b = {4,5,6,7,8}\n",
    "print(set_a.union(set_b))\n",
    "print(set_a.intersection(set_b))"
   ]
  },
  {
   "cell_type": "markdown",
   "metadata": {},
   "source": [
    "## Converting tuple to list to set \n",
    "we can convert any tuple or set to list with **list()** function\n",
    "\n",
    "we can convert any list or set to tuple with **tuple()** function\n",
    "\n",
    "we can convert any tuple or list to set with **set()** function"
   ]
  },
  {
   "cell_type": "code",
   "execution_count": 58,
   "metadata": {},
   "outputs": [
    {
     "name": "stdout",
     "output_type": "stream",
     "text": [
      "(3, 8, 5, 7, 5)\n",
      "{8, 3, 5, 7}\n"
     ]
    }
   ],
   "source": [
    "my_list = [3, 8, 5, 7, 5]\n",
    "my_tuple = tuple(my_list)\n",
    "print(my_tuple)\n",
    "my_set =set(my_list)\n",
    "print(my_set)"
   ]
  },
  {
   "cell_type": "markdown",
   "metadata": {},
   "source": [
    "this functions can be nested"
   ]
  },
  {
   "cell_type": "code",
   "execution_count": 60,
   "metadata": {},
   "outputs": [
    {
     "name": "stdout",
     "output_type": "stream",
     "text": [
      "[8, 3, 5, 7]\n"
     ]
    }
   ],
   "source": [
    "my_unique_list = list(set(my_list))\n",
    "print(my_unique_list)"
   ]
  },
  {
   "cell_type": "markdown",
   "metadata": {},
   "source": [
    "### Checking if something is in a list, set, tuple"
   ]
  },
  {
   "cell_type": "code",
   "execution_count": 127,
   "metadata": {},
   "outputs": [
    {
     "name": "stdout",
     "output_type": "stream",
     "text": [
      "True\n",
      "False\n",
      "True\n",
      "False\n"
     ]
    }
   ],
   "source": [
    "print(3 in my_set)\n",
    "print(9 in my_set)\n",
    "print(3 in my_list)\n",
    "print(9 in my_tuple)"
   ]
  },
  {
   "cell_type": "markdown",
   "metadata": {},
   "source": [
    "## Dictionary\n",
    "dictionary is a collection which is unordered, changeable and indexed as a key-value pair"
   ]
  },
  {
   "cell_type": "code",
   "execution_count": 119,
   "metadata": {},
   "outputs": [
    {
     "name": "stdout",
     "output_type": "stream",
     "text": [
      "8.6\n"
     ]
    }
   ],
   "source": [
    "my_dict = {1: 2.3, \n",
    "          2: 8.6}\n",
    "print(my_dict[2])"
   ]
  },
  {
   "cell_type": "code",
   "execution_count": 120,
   "metadata": {},
   "outputs": [
    {
     "ename": "KeyError",
     "evalue": "3",
     "output_type": "error",
     "traceback": [
      "\u001b[1;31m---------------------------------------------------------------------------\u001b[0m",
      "\u001b[1;31mKeyError\u001b[0m                                  Traceback (most recent call last)",
      "\u001b[1;32m<ipython-input-120-820665e7ba8e>\u001b[0m in \u001b[0;36m<module>\u001b[1;34m\u001b[0m\n\u001b[1;32m----> 1\u001b[1;33m \u001b[0mprint\u001b[0m\u001b[1;33m(\u001b[0m\u001b[0mmy_dict\u001b[0m\u001b[1;33m[\u001b[0m\u001b[1;36m3\u001b[0m\u001b[1;33m]\u001b[0m\u001b[1;33m)\u001b[0m\u001b[1;33m\u001b[0m\u001b[0m\n\u001b[0m",
      "\u001b[1;31mKeyError\u001b[0m: 3"
     ]
    }
   ],
   "source": [
    "print(my_dict[3])"
   ]
  },
  {
   "cell_type": "code",
   "execution_count": 128,
   "metadata": {},
   "outputs": [
    {
     "name": "stdout",
     "output_type": "stream",
     "text": [
      "dict_keys([1, 2])\n",
      "dict_values([2.3, 8.6])\n",
      "True\n",
      "True\n"
     ]
    }
   ],
   "source": [
    "print(my_dict.keys())\n",
    "print(my_dict.values())\n",
    "print(1 in my_dict.keys())\n",
    "print(2.3 in my_dict.values())"
   ]
  },
  {
   "cell_type": "markdown",
   "metadata": {},
   "source": [
    "## Strings\n",
    "strings are ordered sequence of characters, strings are unchangable"
   ]
  },
  {
   "cell_type": "code",
   "execution_count": 122,
   "metadata": {},
   "outputs": [
    {
     "name": "stdout",
     "output_type": "stream",
     "text": [
      "8.6\n"
     ]
    }
   ],
   "source": [
    "print(my_dict.get(2))"
   ]
  },
  {
   "cell_type": "code",
   "execution_count": 72,
   "metadata": {},
   "outputs": [
    {
     "name": "stdout",
     "output_type": "stream",
     "text": [
      "this is string\n",
      "this is string as well\n",
      "this is\n",
      "a multi lane \n",
      "string\n"
     ]
    }
   ],
   "source": [
    "my_string = 'this is string'\n",
    "other_string = \"this is string as well\"\n",
    "multilane_string = '''this is\n",
    "a multi lane \n",
    "string'''\n",
    "print(my_string)\n",
    "print(other_string)\n",
    "print(multilane_string)"
   ]
  },
  {
   "cell_type": "code",
   "execution_count": 69,
   "metadata": {},
   "outputs": [
    {
     "name": "stdout",
     "output_type": "stream",
     "text": [
      "this \"word\" is in quotes\n",
      "This is Maria's book\n"
     ]
    }
   ],
   "source": [
    "my_string = 'this \"word\" is in quotes'\n",
    "my_other_string = \"This is Maria's book\"\n",
    "print(my_string)\n",
    "print(my_other_string)"
   ]
  },
  {
   "cell_type": "code",
   "execution_count": 70,
   "metadata": {},
   "outputs": [
    {
     "name": "stdout",
     "output_type": "stream",
     "text": [
      "this \"word\" is in quotes\n",
      "This is Maria's book\n"
     ]
    }
   ],
   "source": [
    "my_string = \"this \\\"word\\\" is in quotes\"\n",
    "my_other_string = 'This is Maria\\'s book'\n",
    "print(my_string)\n",
    "print(my_other_string)"
   ]
  },
  {
   "cell_type": "code",
   "execution_count": 114,
   "metadata": {},
   "outputs": [
    {
     "name": "stdout",
     "output_type": "stream",
     "text": [
      "10\n"
     ]
    },
    {
     "ename": "TypeError",
     "evalue": "must be str, not int",
     "output_type": "error",
     "traceback": [
      "\u001b[1;31m---------------------------------------------------------------------------\u001b[0m",
      "\u001b[1;31mTypeError\u001b[0m                                 Traceback (most recent call last)",
      "\u001b[1;32m<ipython-input-114-538a41712d03>\u001b[0m in \u001b[0;36m<module>\u001b[1;34m\u001b[0m\n\u001b[0;32m      2\u001b[0m \u001b[0mmy_string\u001b[0m \u001b[1;33m=\u001b[0m \u001b[1;34m'9'\u001b[0m\u001b[1;33m\u001b[0m\u001b[0m\n\u001b[0;32m      3\u001b[0m \u001b[0mprint\u001b[0m\u001b[1;33m(\u001b[0m\u001b[0mmy_number\u001b[0m\u001b[1;33m+\u001b[0m\u001b[1;36m1\u001b[0m\u001b[1;33m)\u001b[0m\u001b[1;33m\u001b[0m\u001b[0m\n\u001b[1;32m----> 4\u001b[1;33m \u001b[0mprint\u001b[0m\u001b[1;33m(\u001b[0m\u001b[0mmy_string\u001b[0m\u001b[1;33m+\u001b[0m\u001b[1;36m1\u001b[0m\u001b[1;33m)\u001b[0m\u001b[1;33m\u001b[0m\u001b[0m\n\u001b[0m",
      "\u001b[1;31mTypeError\u001b[0m: must be str, not int"
     ]
    }
   ],
   "source": [
    "my_number = 9\n",
    "my_string = '9'\n",
    "print(my_number+1)\n",
    "print(my_string+1)"
   ]
  },
  {
   "cell_type": "code",
   "execution_count": 115,
   "metadata": {},
   "outputs": [
    {
     "name": "stdout",
     "output_type": "stream",
     "text": [
      "91\n",
      "10\n",
      "10\n"
     ]
    }
   ],
   "source": [
    "print(my_string+'1')\n",
    "print(int(my_string)+1)\n",
    "print(my_number+int(1))"
   ]
  },
  {
   "cell_type": "markdown",
   "metadata": {},
   "source": [
    "Accesing list members is exactly the same as with lists and tuples"
   ]
  },
  {
   "cell_type": "code",
   "execution_count": 66,
   "metadata": {},
   "outputs": [
    {
     "name": "stdout",
     "output_type": "stream",
     "text": [
      "t\n",
      "llew sa gnirts si siht\n"
     ]
    }
   ],
   "source": [
    "print(other_string[0])\n",
    "print(other_string[::-1])"
   ]
  },
  {
   "cell_type": "markdown",
   "metadata": {},
   "source": [
    "## String methods\n",
    "\n",
    ".capitalize()\t- Converts the first character to upper case\n",
    "\n",
    ".casefold()\t- Converts string into lower case\n",
    "\n",
    ".center()\t- Returns a centered string\n",
    "\n",
    ".count()\t- Returns the number of times a specified value occurs in a string\n",
    "\n",
    ".encode()\t- Returns an encoded version of the string\n",
    "\n",
    ".endswith()\t- Returns true if the string ends with the specified value\n",
    "\n",
    ".expandtabs()\t- Sets the tab size of the string\n",
    "\n",
    ".find()\t- Searches the string for a specified value and returns the position of where it was found\n",
    "\n",
    ".format()\t- Formats specified values in a string\n",
    "\n",
    ".format_map()\t- Formats specified values in a string\n",
    "\n",
    ".index()\t- Searches the string for a specified value and returns the position of where it was found\n",
    "\n",
    ".isalnum()\t- Returns True if all characters in the string are alphanumeric\n",
    "\n",
    ".isalpha()\t- Returns True if all characters in the string are in the alphabet\n",
    "\n",
    ".isdecimal()\t- Returns True if all characters in the string are decimals\n",
    "\n",
    ".isdigit()\t- Returns True if all characters in the string are digits\n",
    "\n",
    ".isidentifier()\t- Returns True if the string is an identifier\n",
    "\n",
    ".islower()\t- Returns True if all characters in the string are lower case\n",
    "\n",
    ".isnumeric()\t- Returns True if all characters in the string are numeric\n",
    "\n",
    ".isprintable()\t- Returns True if all characters in the string are printable\n",
    "\n",
    ".isspace()\t- Returns True if all characters in the string are whitespaces\n",
    "\n",
    ".istitle()\t- Returns True if the string follows the rules of a title\n",
    "\n",
    ".isupper()\t- Returns True if all characters in the string are upper case\n",
    "\n",
    ".join()\t- Joins the elements of an iterable to the end of the string\n",
    "\n",
    ".ljust()\t- Returns a left justified version of the string\n",
    "\n",
    ".lower()\t- Converts a string into lower case\n",
    "\n",
    ".lstrip()\t- Returns a left trim version of the string\n",
    "\n",
    ".maketrans()\t- Returns a translation table to be used in translations\n",
    "\n",
    ".partition()\t- Returns a tuple where the string is parted into three parts\n",
    "\n",
    ".replace()\t- Returns a string where a specified value is replaced with a specified value\n",
    "\n",
    ".rfind()\t- Searches the string for a specified value and returns the last position of where it was found\n",
    "\n",
    ".rindex()\t- Searches the string for a specified value and returns the last position of where it was found\n",
    "\n",
    ".rjust()\t- Returns a right justified version of the string\n",
    "\n",
    ".rpartition()\t- Returns a tuple where the string is parted into three parts\n",
    "\n",
    ".rsplit()\t- Splits the string at the specified separator, and returns a list\n",
    "\n",
    ".rstrip()\t- Returns a right trim version of the string\n",
    "\n",
    ".split()\t- Splits the string at the specified separator, and returns a list\n",
    "\n",
    ".splitlines()\t- Splits the string at line breaks and returns a list\n",
    "\n",
    ".startswith()\t- Returns true if the string starts with the specified value\n",
    "\n",
    ".strip()\t- Returns a trimmed version of the string\n",
    "\n",
    ".swapcase()\t- Swaps cases, lower case becomes upper case and vice versa\n",
    "\n",
    ".title()\t- Converts the first character of each word to upper case\n",
    "\n",
    ".translate()\t- Returns a translated string\n",
    "\n",
    ".upper()\t- Converts a string into upper case\n",
    "\n",
    ".zfill()\t- Fills the string with a specified number of 0 values at the beginning"
   ]
  },
  {
   "cell_type": "code",
   "execution_count": 77,
   "metadata": {},
   "outputs": [
    {
     "name": "stdout",
     "output_type": "stream",
     "text": [
      " string with spaces \n",
      "string with spaces\n"
     ]
    }
   ],
   "source": [
    "my_string = ' string with spaces '\n",
    "print(my_string)\n",
    "my_stripped_string = my_string.strip()\n",
    "print(my_stripped_string)"
   ]
  },
  {
   "cell_type": "code",
   "execution_count": 79,
   "metadata": {},
   "outputs": [
    {
     "name": "stdout",
     "output_type": "stream",
     "text": [
      "True\n",
      "False\n"
     ]
    }
   ],
   "source": [
    "print('ABC' == 'ABC')\n",
    "print('ABC' == ' ABC ')"
   ]
  },
  {
   "cell_type": "code",
   "execution_count": 89,
   "metadata": {},
   "outputs": [
    {
     "name": "stdout",
     "output_type": "stream",
     "text": [
      "['string', 'with', 'spaces']\n"
     ]
    }
   ],
   "source": [
    "list_of_words = my_string.split()\n",
    "print(list_of_words)"
   ]
  },
  {
   "cell_type": "code",
   "execution_count": 92,
   "metadata": {},
   "outputs": [
    {
     "name": "stdout",
     "output_type": "stream",
     "text": [
      "['id1', 'id2', 'id3', 'id4']\n"
     ]
    }
   ],
   "source": [
    "text = 'id1, id2, id3, id4'\n",
    "ids_list = text.split(', ')\n",
    "print(ids_list)"
   ]
  },
  {
   "cell_type": "code",
   "execution_count": 94,
   "metadata": {},
   "outputs": [
    {
     "name": "stdout",
     "output_type": "stream",
     "text": [
      "id1 / id2 / id3 / id4\n"
     ]
    }
   ],
   "source": [
    "new_text = ' / '.join(ids_list)\n",
    "print(new_text)"
   ]
  },
  {
   "cell_type": "code",
   "execution_count": 95,
   "metadata": {},
   "outputs": [
    {
     "data": {
      "text/plain": [
       "8"
      ]
     },
     "execution_count": 95,
     "metadata": {},
     "output_type": "execute_result"
    }
   ],
   "source": [
    "xml_text = 'this is <body>text</body> with xml tags'\n",
    "xml_text.find('<body>')"
   ]
  },
  {
   "cell_type": "code",
   "execution_count": 100,
   "metadata": {},
   "outputs": [
    {
     "name": "stdout",
     "output_type": "stream",
     "text": [
      "text\n"
     ]
    }
   ],
   "source": [
    "xml_body = xml_text[xml_text.find('<body>')+len('<body>'):xml_text.find('</body>')]\n",
    "print(xml_body)"
   ]
  },
  {
   "cell_type": "markdown",
   "metadata": {},
   "source": [
    "### Other operations with strings\n",
    "\n",
    "combinig (adding) strings"
   ]
  },
  {
   "cell_type": "code",
   "execution_count": 104,
   "metadata": {},
   "outputs": [
    {
     "name": "stdout",
     "output_type": "stream",
     "text": [
      "text1text2\n"
     ]
    }
   ],
   "source": [
    "text = 'text1'+'text2'\n",
    "print(text)"
   ]
  },
  {
   "cell_type": "code",
   "execution_count": 106,
   "metadata": {},
   "outputs": [
    {
     "name": "stdout",
     "output_type": "stream",
     "text": [
      "text1text1text1text1\n"
     ]
    }
   ],
   "source": [
    "text = 'text1'*4\n",
    "print(text)"
   ]
  },
  {
   "cell_type": "markdown",
   "metadata": {},
   "source": [
    "row and formated string"
   ]
  },
  {
   "cell_type": "code",
   "execution_count": 108,
   "metadata": {},
   "outputs": [
    {
     "ename": "SyntaxError",
     "evalue": "(unicode error) 'unicodeescape' codec can't decode bytes in position 2-3: truncated \\UXXXXXXXX escape (<ipython-input-108-29eb55ac8151>, line 1)",
     "output_type": "error",
     "traceback": [
      "\u001b[1;36m  File \u001b[1;32m\"<ipython-input-108-29eb55ac8151>\"\u001b[1;36m, line \u001b[1;32m1\u001b[0m\n\u001b[1;33m    file_location = 'C:\\Users\\U6047694\\Documents\\job\\Python_Projects\\file.txt'\u001b[0m\n\u001b[1;37m                   ^\u001b[0m\n\u001b[1;31mSyntaxError\u001b[0m\u001b[1;31m:\u001b[0m (unicode error) 'unicodeescape' codec can't decode bytes in position 2-3: truncated \\UXXXXXXXX escape\n"
     ]
    }
   ],
   "source": [
    "file_location = 'C:\\Users\\U6047694\\Documents\\job\\Python_Projects\\file.txt'"
   ]
  },
  {
   "cell_type": "code",
   "execution_count": 110,
   "metadata": {},
   "outputs": [
    {
     "name": "stdout",
     "output_type": "stream",
     "text": [
      "C:\\Users\\U6047694\\Documents\\job\\Python_Projects\\file.txt\n"
     ]
    }
   ],
   "source": [
    "file_location = r'C:\\Users\\U6047694\\Documents\\job\\Python_Projects\\file.txt'\n",
    "print(file_location)"
   ]
  },
  {
   "cell_type": "code",
   "execution_count": 117,
   "metadata": {},
   "outputs": [
    {
     "name": "stdout",
     "output_type": "stream",
     "text": [
      "Var1 is: 5, var2 is: 6 and the sum is: 11\n",
      "Var1 is: 5, var2 is: 6 and the sum is: 11\n"
     ]
    }
   ],
   "source": [
    "var1 = 5\n",
    "var2 = 6\n",
    "print(f'Var1 is: {var1}, var2 is: {var2} and the sum is: {var1+var2}')\n",
    "# this is the same as \n",
    "print('Var1 is: '+str(var1)+', var2 is: '+str(var2)+' and the sum is: '+str(var1+var2))"
   ]
  },
  {
   "cell_type": "markdown",
   "metadata": {},
   "source": [
    "## Regular expressions in Python\n",
    "The regular expressions in python are stored in separate package **re** this package should be imported in order to access its functionality (methods).\n",
    "### Methods in re package\n",
    "* re.search()\t- Check if given pattern is present anywhere in input string. Output is a re.Match object, usable in conditional expressions\n",
    "* re.fullmatch()\t- ensures pattern matches the entire input string\n",
    "* re.compile()\t- Compile a pattern for reuse, outputs re.Pattern object\n",
    "* re.sub()\t- search and replace\n",
    "* re.escape()\t- automatically escape all metacharacters\n",
    "* re.split()\t- split a string based on RE text matched by the groups will be part of the output\n",
    "* re.findall()\t- returns all the matches as a list\n",
    "* re.finditer()\t- iterator with re.Match object for each match\n",
    "* re.subn()\t- gives tuple of modified string and number of substitutions\n",
    "\n",
    "### re characters\n",
    "\n",
    "'.' - Match any character except newline\n",
    "\n",
    "'^' - Match the start of the string\n",
    "'$' - Match the end of the string\n",
    "\n",
    "'*' - Match 0 or more repetitions\n",
    "\n",
    "'+' - Match 1 or more repetitions\n",
    "\n",
    "'?' - Match 0 or 1 repetitions\n",
    "\n",
    "### re set of characters\n",
    "\n",
    "'[]' - Match a set of characters\n",
    "'[a-z]' - Match any lowercase ASCII letter\n",
    "[lower-upper]Match a set of characters from lower to upper\n",
    "[^]Match characters NOT in a set"
   ]
  },
  {
   "cell_type": "code",
   "execution_count": null,
   "metadata": {},
   "outputs": [],
   "source": [
    "import re"
   ]
  }
 ],
 "metadata": {
  "@webio": {
   "lastCommId": null,
   "lastKernelId": null
  },
  "kernelspec": {
   "display_name": "Python 3",
   "language": "python",
   "name": "python3"
  },
  "language_info": {
   "codemirror_mode": {
    "name": "ipython",
    "version": 3
   },
   "file_extension": ".py",
   "mimetype": "text/x-python",
   "name": "python",
   "nbconvert_exporter": "python",
   "pygments_lexer": "ipython3",
   "version": "3.6.4"
  }
 },
 "nbformat": 4,
 "nbformat_minor": 2
}
